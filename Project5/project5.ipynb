{
 "cells": [
  {
   "cell_type": "markdown",
   "metadata": {},
   "source": [
    "### Test a Perceptual Phenomenon Project\n",
    "\n",
    "# Interactive Stroop Effect Experiment           \n",
    "           \n",
    "           \n",
    "\n",
    "Name: Fai Alnuhait          \n",
    "Dataset link: https://drive.google.com/file/d/0B9Yf01UaIbUgQXpYb2NhZ29yX1U/view\n",
    "\n",
    "\n",
    "### Introduction \n",
    "\n",
    "The stroop effect was first discovered by J. Ridley Stroop in 1935 whom it got its name from. In this experiment, the participants are shown two lists of words. Where the first list contains colors written in a matching ink color, and the other list has unmatched words. This experiment examines the effect of having two sources of information while processing, and thus it is designed to has congruent group where the two source match, and incongruent group where they differ. \n",
    "\n",
    "\n",
    "\n",
    "### Variables\n",
    "\n",
    "As we can get from the experiment, we have the independant variable: congruousness since we change it in the two phases of the experiment to be congruent words followed by incongruent words. In the other hand, the dependant variable in which we measure the change on is: time needed to name the colors. This variable is used to examine the effect of congruousness in terms of significant changes. \n",
    "\n",
    "\n",
    "### Hypothesis \n",
    "\n",
    "My main question about this experiment is: Does having two conflicting sources of information affect the mean of time needed to process it?. As briefly explained above, participants do the same task (name the color of the displayed word) with two sets of words. The first has congruent information as the color of the word is the same as the actual word, whereas in the second set they differ from each other. \n",
    "\n",
    "To examine the effect of changing congruousness on the time taken to name the colors, we need to set the appropriate hypothesis. Looking at the nature of the experiment, The null hyporhesis is: there is no difference (or no effect) in mean of time taken to name the colors when using incongruent set compared to congruent one. In another representation: Ho :  μc -  μi = 0, where c refer to the congruent list and i to the incongruent list. The alternative hypothesis would be: The mean of time needed differs between the two lists( Ha :  μc -  μi != 0 ).\n",
    "\n",
    "Finally, the test we are about to perform is of the type: repeated measure since we repeat the same test for two sets of words, and we will apply two tailed test given that our hypothesis is inequality hypothesis. We are also using a two sample t-test as the population paramters are not known, only samples are provided. Moreover, our sample size is so small (less than 30) that we can not use z-table. Having two independant samples (as our experiment phases do not depend on one another, and each phase has similar sets only changing the congruousness), this implies that we are trying to invesrigate wheather the mean of each group differs from the other. So, our main goal is to discover if there is a change in means of each sample which means that the two populations (the congruent and the incongruent ones) are different to a certain degree of confidence. Having this difference indicates that the change we made in the independant variable has an effect on the dependant variable. Last but not least, t-test was used assuming the populations in hand are of normal distribution. \n",
    "\n",
    "\n",
    "\n",
    "### Descriptive Statistics\n",
    "\n",
    "##### central tendency measures\n",
    "\n",
    "| Measure               | congruent list | incongruent list |\n",
    "|:--------------------- |:--------------:|:----------------:| \n",
    "| mean                  | 14.051         | 22.016           | \n",
    "| median                | 14.3565        |   21.018         | \n",
    "| mode (after rounding) | 12             |    21            | \n",
    "| midrange              | 15.479         |    25.471        | \n",
    "\n",
    "\n",
    "\n",
    "##### variability measures\n",
    "\n",
    "| Measure                   | congruent list | incongruent list |\n",
    "|:------------------------- |:--------------:|:----------------:|\n",
    "| range                     | 13.698         |    19.568        |\n",
    "| IQR (interquartile range) | 4.306          |    5.335         |\n",
    "| variance                  | 12.669         |    23.012        |\n",
    "| standard deviation        | 3.559          |    4.797         |\n",
    "\n",
    "\n",
    ">Note: measures were rounded to three decimals. \n",
    "\n",
    "\n",
    "\n",
    "### Data Visualization\n",
    "\n",
    "In this section, we'll look at the data plotted to get a better understanding of the distribution of each sample. "
   ]
  },
  {
   "cell_type": "code",
   "execution_count": 12,
   "metadata": {},
   "outputs": [
    {
     "data": {
      "text/plain": [
       "<matplotlib.legend.Legend at 0x111ce0cf8>"
      ]
     },
     "execution_count": 12,
     "metadata": {},
     "output_type": "execute_result"
    },
    {
     "data": {
      "image/png": "[encoded data removed]",
      "text/plain": [
       "<matplotlib.figure.Figure at 0x111d58da0>"
      ]
     },
     "metadata": {},
     "output_type": "display_data"
    }
   ],
   "source": [
    "import csv\n",
    "\n",
    "# Load data \n",
    "congruent = []\n",
    "incongruent  = []\n",
    "with open('stroopdata.csv') as f:\n",
    "    reader = csv.reader(f)\n",
    "    next(f)\n",
    "    for row in reader:\n",
    "        congruent.append(float(row[0]))\n",
    "        incongruent.append(float(row[1]))\n",
    "\n",
    "# Plot data\n",
    "%matplotlib inline\n",
    "import matplotlib.pyplot as plt\n",
    "import matplotlib.patches as mpatches\n",
    "\n",
    "plt.plot( congruent, color ='#45B39D', marker='*', linestyle='None')\n",
    "plt.plot( incongruent, color ='#CD5C5C', marker='*', linestyle='None')\n",
    "plt.ylabel('Time in seconds')\n",
    "plt.suptitle('Samples distribution')\n",
    "pink = mpatches.Patch(color='#CD5C5C', label='incongruent list')\n",
    "green = mpatches.Patch(color='#45B39D', label='congruent list')\n",
    "plt.legend(handles=[pink,green])\n"
   ]
  },
  {
   "cell_type": "markdown",
   "metadata": {},
   "source": [
    ">The two distribution looks similar toward the left side of the scale, with the incongruent group having higher spikes in the right. The congruent sample has lower values compared to the incongruent group. \n",
    "\n",
    "\n",
    "\n",
    "### Statistical Test\n",
    "\n",
    "For this test, I chose 98% as the confidence interval, thus alpha level = 0.01. From the t-table, the t critical value is: 2.5, with μ Time(c) - μ Time(in) = -7.965 (rounded), and the standard deviation of the differences = 4.865 (rounded), we'll have t-value = -8.021 (rounded). Our t-value is way far from the critical t-value which implies that Ho is rejected, and thus there is a change in time between the two lists. \n",
    "\n",
    "\n",
    "After getting this result, I would like to make another statistical test with another set of hypothesis. Since we know with high certainty that there's a change, I would like to examine if the time taken in the incongruent set will be longer. So the null hypothesis would be: the time taken in congruent words is greater or equal to the time taken in the incongruent words. The alternative hypothesis is: the time needed in the incongruent set is greater than the congruent set. In other words, Ho:  μ Time(c) - μ Time(in) >= 0, and Ha: μ Time(c) - μ Time(in) < 0. It would be a one tailed t-test to suit the problem in hand.       \n",
    "\n",
    "\n",
    "With a 99% confidence interval, an alpha level = 0.01 and a t-critical value = -2.5, we have a t-value = -8.021 (rounded) which is way smaller than the critical value and thus we reject the null hypothesis. That means the time taken increase when using incongruent set of words compared to congruent set. \n",
    "\n",
    "\n",
    "### Causes and Similar Cases\n",
    "\n",
    "In the first set, the two information sources (the font color and the written word) had matching information which makes it easier for the brain to process. Whereas in the second set, the two sources give different information. This change might affect the information processing in the brain as the writting interfers with the color. This might be a possible explination. \n",
    "\n",
    "\n",
    "Changing the font type, color and style might give similar results when used with contradicting written words (such as a italic word that says 'bold'). Even when showing common words with different styles and ask to identify the style used. "
   ]
  },
  {
   "cell_type": "markdown",
   "metadata": {},
   "source": [
    "### Resources \n",
    "- https://faculty.washington.edu/chudler/java/ready.html\n",
    "- https://stackoverflow.com/questions/4796764/read-file-from-line-2-or-skip-header-row\n",
    "- https://matplotlib.org/users/legend_guide.html\n",
    "- https://s3.amazonaws.com/udacity-hosted-downloads/t-table.jpg\n",
    "- http://www.statisticshowto.com/tables/t-distribution-table/\n",
    "- http://www.statisticshowto.com/when-to-use-a-t-score-vs-z-score/\n",
    "- http://support.minitab.com/en-us/minitab/17/topic-library/basic-statistics-and-graphs/hypothesis-tests/tests-of-means/types-of-t-tests/\n",
    "- https://stackoverflow.com/questions/44736034/how-to-hide-lines-in-matplotlib\n",
    "- https://matplotlib.org/api/_as_gen/matplotlib.pyplot.plot.html"
   ]
  }
 ],
 "metadata": {
  "kernelspec": {
   "display_name": "Python [default]",
   "language": "python",
   "name": "python3"
  },
  "language_info": {
   "codemirror_mode": {
    "name": "ipython",
    "version": 3
   },
   "file_extension": ".py",
   "mimetype": "text/x-python",
   "name": "python",
   "nbconvert_exporter": "python",
   "pygments_lexer": "ipython3",
   "version": "3.6.1"
  }
 },
 "nbformat": 4,
 "nbformat_minor": 2
}
